{
 "cells": [
  {
   "cell_type": "code",
   "execution_count": null,
   "metadata": {
    "deletable": false,
    "editable": false
   },
   "outputs": [],
   "source": [
    "### v1.1"
   ]
  },
  {
   "cell_type": "code",
   "execution_count": 1,
   "metadata": {},
   "outputs": [],
   "source": [
    "import numpy as np\n",
    "import matplotlib.pyplot as plt\n",
    "import pandas as pd\n",
    "import tensorflow as tf\n",
    "from cnn_utils import *\n",
    "\n",
    "%matplotlib inline\n",
    "np.random.seed(1)"
   ]
  },
  {
   "cell_type": "code",
   "execution_count": 2,
   "metadata": {},
   "outputs": [
    {
     "name": "stdout",
     "output_type": "stream",
     "text": [
      "number of training examples = 600\n",
      "number of test examples = 150\n",
      "X_train shape: (600, 64, 64, 3)\n",
      "Y_train shape: (600, 1)\n",
      "X_test shape: (150, 64, 64, 3)\n",
      "Y_test shape: (150, 1)\n"
     ]
    },
    {
     "data": {
      "text/plain": [
       "array([[[[0.69803922, 0.74509804, 0.63921569],\n",
       "         [0.6745098 , 0.70980392, 0.67843137],\n",
       "         [0.7372549 , 0.76862745, 0.72156863],\n",
       "         ...,\n",
       "         [1.        , 1.        , 0.99607843],\n",
       "         [0.99607843, 1.        , 0.98039216],\n",
       "         [0.97647059, 0.99215686, 0.87058824]],\n",
       "\n",
       "        [[0.72156863, 0.78823529, 0.64705882],\n",
       "         [0.58431373, 0.60392157, 0.55686275],\n",
       "         [0.58431373, 0.61960784, 0.54509804],\n",
       "         ...,\n",
       "         [1.        , 1.        , 0.99215686],\n",
       "         [0.99607843, 1.        , 0.98039216],\n",
       "         [0.98431373, 1.        , 0.90196078]],\n",
       "\n",
       "        [[0.77647059, 0.81176471, 0.64705882],\n",
       "         [0.55294118, 0.57647059, 0.50196078],\n",
       "         [0.65882353, 0.72156863, 0.60392157],\n",
       "         ...,\n",
       "         [0.99215686, 1.        , 0.95686275],\n",
       "         [0.99607843, 1.        , 0.97254902],\n",
       "         [0.99215686, 1.        , 0.91372549]],\n",
       "\n",
       "        ...,\n",
       "\n",
       "        [[0.30196078, 0.32156863, 0.34901961],\n",
       "         [0.23529412, 0.25098039, 0.26666667],\n",
       "         [0.19215686, 0.20784314, 0.21568627],\n",
       "         ...,\n",
       "         [0.12156863, 0.1254902 , 0.11764706],\n",
       "         [0.18431373, 0.18823529, 0.18039216],\n",
       "         [0.29411765, 0.29411765, 0.29411765]],\n",
       "\n",
       "        [[0.26666667, 0.27843137, 0.29803922],\n",
       "         [0.21568627, 0.22745098, 0.23137255],\n",
       "         [0.17254902, 0.18431373, 0.18431373],\n",
       "         ...,\n",
       "         [0.11764706, 0.12156863, 0.11372549],\n",
       "         [0.15686275, 0.16078431, 0.15294118],\n",
       "         [0.24705882, 0.25098039, 0.24705882]],\n",
       "\n",
       "        [[0.23921569, 0.25098039, 0.25882353],\n",
       "         [0.20392157, 0.21176471, 0.21176471],\n",
       "         [0.17647059, 0.18431373, 0.18039216],\n",
       "         ...,\n",
       "         [0.11764706, 0.12156863, 0.11372549],\n",
       "         [0.14901961, 0.14901961, 0.14117647],\n",
       "         [0.21960784, 0.21960784, 0.21176471]]],\n",
       "\n",
       "\n",
       "       [[[0.75686275, 0.8       , 0.65882353],\n",
       "         [0.7372549 , 0.79607843, 0.60784314],\n",
       "         [0.84313725, 0.89019608, 0.70980392],\n",
       "         ...,\n",
       "         [0.85882353, 0.84313725, 0.81568627],\n",
       "         [0.74901961, 0.7254902 , 0.66666667],\n",
       "         [0.67843137, 0.64705882, 0.55686275]],\n",
       "\n",
       "        [[0.78823529, 0.83529412, 0.71372549],\n",
       "         [0.78431373, 0.83921569, 0.6627451 ],\n",
       "         [0.8       , 0.84313725, 0.64313725],\n",
       "         ...,\n",
       "         [0.99607843, 0.99607843, 0.98823529],\n",
       "         [0.87843137, 0.90588235, 0.87058824],\n",
       "         [0.78823529, 0.83137255, 0.72156863]],\n",
       "\n",
       "        [[0.8       , 0.83529412, 0.69803922],\n",
       "         [0.82745098, 0.8627451 , 0.72156863],\n",
       "         [0.81176471, 0.84313725, 0.68627451],\n",
       "         ...,\n",
       "         [0.94901961, 0.97254902, 0.94117647],\n",
       "         [0.78431373, 0.85882353, 0.77254902],\n",
       "         [0.72156863, 0.8       , 0.69019608]],\n",
       "\n",
       "        ...,\n",
       "\n",
       "        [[0.65490196, 0.7254902 , 0.78039216],\n",
       "         [0.52941176, 0.58431373, 0.68235294],\n",
       "         [0.4627451 , 0.49803922, 0.57647059],\n",
       "         ...,\n",
       "         [0.14117647, 0.12156863, 0.10980392],\n",
       "         [0.14117647, 0.12156863, 0.10980392],\n",
       "         [0.13333333, 0.12156863, 0.10588235]],\n",
       "\n",
       "        [[0.54509804, 0.60392157, 0.70196078],\n",
       "         [0.45098039, 0.49411765, 0.56862745],\n",
       "         [0.40784314, 0.43529412, 0.49019608],\n",
       "         ...,\n",
       "         [0.1372549 , 0.11764706, 0.10588235],\n",
       "         [0.1372549 , 0.11764706, 0.10588235],\n",
       "         [0.14509804, 0.12941176, 0.11372549]],\n",
       "\n",
       "        [[0.46666667, 0.50980392, 0.58431373],\n",
       "         [0.40784314, 0.43137255, 0.48627451],\n",
       "         [0.36470588, 0.38431373, 0.42352941],\n",
       "         ...,\n",
       "         [0.13333333, 0.11372549, 0.10196078],\n",
       "         [0.12941176, 0.11372549, 0.09803922],\n",
       "         [0.14509804, 0.12941176, 0.11372549]]],\n",
       "\n",
       "\n",
       "       [[[0.32156863, 0.38039216, 0.19607843],\n",
       "         [0.30196078, 0.36078431, 0.22745098],\n",
       "         [0.32156863, 0.36470588, 0.24313725],\n",
       "         ...,\n",
       "         [0.43921569, 0.50196078, 0.29019608],\n",
       "         [0.49411765, 0.56470588, 0.3372549 ],\n",
       "         [0.4627451 , 0.5254902 , 0.30588235]],\n",
       "\n",
       "        [[0.27058824, 0.30980392, 0.18823529],\n",
       "         [0.30980392, 0.34901961, 0.22745098],\n",
       "         [0.34901961, 0.38431373, 0.26666667],\n",
       "         ...,\n",
       "         [0.45490196, 0.5254902 , 0.30588235],\n",
       "         [0.46666667, 0.53333333, 0.3254902 ],\n",
       "         [0.44705882, 0.50588235, 0.30196078]],\n",
       "\n",
       "        [[0.30196078, 0.3254902 , 0.21176471],\n",
       "         [0.30980392, 0.32941176, 0.22745098],\n",
       "         [0.32156863, 0.34509804, 0.24313725],\n",
       "         ...,\n",
       "         [0.49411765, 0.55686275, 0.32941176],\n",
       "         [0.46666667, 0.51764706, 0.32941176],\n",
       "         [0.49411765, 0.54509804, 0.38039216]],\n",
       "\n",
       "        ...,\n",
       "\n",
       "        [[0.11764706, 0.13333333, 0.09803922],\n",
       "         [0.14509804, 0.15686275, 0.11372549],\n",
       "         [0.11372549, 0.1372549 , 0.10588235],\n",
       "         ...,\n",
       "         [0.05490196, 0.05490196, 0.04313725],\n",
       "         [0.05490196, 0.05490196, 0.04705882],\n",
       "         [0.05098039, 0.05490196, 0.04313725]],\n",
       "\n",
       "        [[0.17647059, 0.18431373, 0.12941176],\n",
       "         [0.14901961, 0.16470588, 0.1254902 ],\n",
       "         [0.1372549 , 0.16078431, 0.1254902 ],\n",
       "         ...,\n",
       "         [0.05098039, 0.05098039, 0.04313725],\n",
       "         [0.05098039, 0.05098039, 0.04313725],\n",
       "         [0.05098039, 0.05098039, 0.04313725]],\n",
       "\n",
       "        [[0.16862745, 0.18039216, 0.1254902 ],\n",
       "         [0.14117647, 0.16078431, 0.1254902 ],\n",
       "         [0.22745098, 0.23529412, 0.18039216],\n",
       "         ...,\n",
       "         [0.05098039, 0.05098039, 0.04313725],\n",
       "         [0.04705882, 0.05098039, 0.04313725],\n",
       "         [0.05098039, 0.05098039, 0.03921569]]],\n",
       "\n",
       "\n",
       "       ...,\n",
       "\n",
       "\n",
       "       [[[0.8       , 0.76470588, 0.61960784],\n",
       "         [0.84313725, 0.80392157, 0.67843137],\n",
       "         [0.83137255, 0.80784314, 0.65098039],\n",
       "         ...,\n",
       "         [1.        , 1.        , 0.99607843],\n",
       "         [1.        , 1.        , 1.        ],\n",
       "         [1.        , 1.        , 1.        ]],\n",
       "\n",
       "        [[0.83137255, 0.78431373, 0.63921569],\n",
       "         [0.85098039, 0.81176471, 0.66666667],\n",
       "         [0.82352941, 0.79607843, 0.65490196],\n",
       "         ...,\n",
       "         [1.        , 1.        , 0.99215686],\n",
       "         [0.99607843, 0.99607843, 0.99607843],\n",
       "         [0.91372549, 0.94117647, 0.9372549 ]],\n",
       "\n",
       "        [[0.84705882, 0.81568627, 0.66666667],\n",
       "         [0.8       , 0.76470588, 0.62745098],\n",
       "         [0.85882353, 0.84313725, 0.69411765],\n",
       "         ...,\n",
       "         [1.        , 1.        , 1.        ],\n",
       "         [0.98039216, 0.98039216, 0.97254902],\n",
       "         [0.84313725, 0.86666667, 0.85882353]],\n",
       "\n",
       "        ...,\n",
       "\n",
       "        [[1.        , 1.        , 0.99215686],\n",
       "         [1.        , 1.        , 1.        ],\n",
       "         [1.        , 1.        , 1.        ],\n",
       "         ...,\n",
       "         [0.41176471, 0.27843137, 0.19215686],\n",
       "         [0.43137255, 0.29803922, 0.20392157],\n",
       "         [0.43921569, 0.30196078, 0.20392157]],\n",
       "\n",
       "        [[1.        , 1.        , 0.96862745],\n",
       "         [1.        , 1.        , 1.        ],\n",
       "         [1.        , 1.        , 1.        ],\n",
       "         ...,\n",
       "         [0.38039216, 0.2627451 , 0.18431373],\n",
       "         [0.4       , 0.2745098 , 0.19215686],\n",
       "         [0.40392157, 0.27843137, 0.19215686]],\n",
       "\n",
       "        [[1.        , 1.        , 0.98823529],\n",
       "         [1.        , 1.        , 1.        ],\n",
       "         [1.        , 1.        , 1.        ],\n",
       "         ...,\n",
       "         [0.34509804, 0.23921569, 0.17254902],\n",
       "         [0.36078431, 0.25098039, 0.17647059],\n",
       "         [0.37254902, 0.25882353, 0.17647059]]],\n",
       "\n",
       "\n",
       "       [[[0.96078431, 0.97647059, 0.9372549 ],\n",
       "         [0.98431373, 0.99215686, 0.96862745],\n",
       "         [0.96078431, 0.97647059, 0.9372549 ],\n",
       "         ...,\n",
       "         [1.        , 1.        , 1.        ],\n",
       "         [1.        , 1.        , 1.        ],\n",
       "         [1.        , 1.        , 1.        ]],\n",
       "\n",
       "        [[0.96078431, 0.97647059, 0.92156863],\n",
       "         [0.97647059, 0.99215686, 0.93333333],\n",
       "         [0.95686275, 0.98039216, 0.91764706],\n",
       "         ...,\n",
       "         [1.        , 1.        , 1.        ],\n",
       "         [1.        , 1.        , 1.        ],\n",
       "         [1.        , 1.        , 1.        ]],\n",
       "\n",
       "        [[0.89803922, 0.94117647, 0.84705882],\n",
       "         [0.92156863, 0.95294118, 0.85490196],\n",
       "         [0.91764706, 0.94901961, 0.87843137],\n",
       "         ...,\n",
       "         [1.        , 1.        , 1.        ],\n",
       "         [1.        , 1.        , 1.        ],\n",
       "         [1.        , 1.        , 1.        ]],\n",
       "\n",
       "        ...,\n",
       "\n",
       "        [[0.99215686, 0.99607843, 0.9372549 ],\n",
       "         [0.71372549, 0.76862745, 0.60784314],\n",
       "         [0.48235294, 0.56862745, 0.4       ],\n",
       "         ...,\n",
       "         [0.23529412, 0.2627451 , 0.24313725],\n",
       "         [0.24705882, 0.2745098 , 0.25098039],\n",
       "         [0.2627451 , 0.29411765, 0.2627451 ]],\n",
       "\n",
       "        [[0.99607843, 0.99607843, 0.92941176],\n",
       "         [0.74901961, 0.79215686, 0.67843137],\n",
       "         [0.4745098 , 0.55686275, 0.39215686],\n",
       "         ...,\n",
       "         [0.21960784, 0.23921569, 0.22352941],\n",
       "         [0.23137255, 0.25490196, 0.23137255],\n",
       "         [0.24313725, 0.27058824, 0.24313725]],\n",
       "\n",
       "        [[0.99607843, 0.99607843, 0.90196078],\n",
       "         [0.77254902, 0.81568627, 0.69803922],\n",
       "         [0.46666667, 0.55294118, 0.38431373],\n",
       "         ...,\n",
       "         [0.2       , 0.22352941, 0.20392157],\n",
       "         [0.21176471, 0.23529412, 0.21568627],\n",
       "         [0.22745098, 0.25098039, 0.22352941]]],\n",
       "\n",
       "\n",
       "       [[[0.98823529, 0.99215686, 0.97254902],\n",
       "         [0.99607843, 1.        , 0.98823529],\n",
       "         [0.99607843, 0.99607843, 0.99215686],\n",
       "         ...,\n",
       "         [1.        , 1.        , 1.        ],\n",
       "         [1.        , 1.        , 1.        ],\n",
       "         [1.        , 1.        , 1.        ]],\n",
       "\n",
       "        [[0.98039216, 0.98823529, 0.96078431],\n",
       "         [0.98431373, 0.99215686, 0.96470588],\n",
       "         [0.98823529, 0.99215686, 0.96862745],\n",
       "         ...,\n",
       "         [1.        , 1.        , 1.        ],\n",
       "         [1.        , 1.        , 1.        ],\n",
       "         [1.        , 1.        , 1.        ]],\n",
       "\n",
       "        [[0.96862745, 0.97647059, 0.9372549 ],\n",
       "         [0.92941176, 0.94117647, 0.88627451],\n",
       "         [0.96078431, 0.96470588, 0.91372549],\n",
       "         ...,\n",
       "         [1.        , 1.        , 1.        ],\n",
       "         [1.        , 1.        , 1.        ],\n",
       "         [1.        , 1.        , 1.        ]],\n",
       "\n",
       "        ...,\n",
       "\n",
       "        [[0.99607843, 1.        , 0.95686275],\n",
       "         [1.        , 1.        , 0.97647059],\n",
       "         [1.        , 1.        , 0.96470588],\n",
       "         ...,\n",
       "         [0.91764706, 0.96078431, 0.75294118],\n",
       "         [0.90196078, 0.91764706, 0.77647059],\n",
       "         [0.91372549, 0.93333333, 0.78431373]],\n",
       "\n",
       "        [[0.99607843, 1.        , 0.96862745],\n",
       "         [1.        , 1.        , 0.97254902],\n",
       "         [0.99607843, 0.99607843, 0.89019608],\n",
       "         ...,\n",
       "         [0.96862745, 0.98039216, 0.88627451],\n",
       "         [0.94117647, 0.96078431, 0.83921569],\n",
       "         [0.89411765, 0.9254902 , 0.75686275]],\n",
       "\n",
       "        [[0.99607843, 1.        , 0.94901961],\n",
       "         [1.        , 1.        , 0.98039216],\n",
       "         [0.99607843, 0.99607843, 0.93333333],\n",
       "         ...,\n",
       "         [0.97254902, 0.97254902, 0.91372549],\n",
       "         [0.9254902 , 0.94901961, 0.76078431],\n",
       "         [0.90196078, 0.93333333, 0.72941176]]]])"
      ]
     },
     "execution_count": 2,
     "metadata": {},
     "output_type": "execute_result"
    }
   ],
   "source": [
    "X_train_orig, Y_train_orig, X_test_orig, Y_test_orig, classes = load_happy_dataset()\n",
    "\n",
    "# Normalize image vectors\n",
    "X_train = X_train_orig/255.\n",
    "X_test = X_test_orig/255.\n",
    "\n",
    "# Reshape\n",
    "Y_train = Y_train_orig.T\n",
    "Y_test = Y_test_orig.T\n",
    "\n",
    "X_train"
   ]
  },
  {
   "cell_type": "markdown",
   "metadata": {},
   "source": [
    "You can display the images contained in the dataset. Images are **64x64** pixels in RGB format (3 channels)."
   ]
  },
  {
   "cell_type": "code",
   "execution_count": 3,
   "metadata": {},
   "outputs": [
    {
     "data": {
      "image/png": "[encoded data removed]",
      "text/plain": [
       "<Figure size 432x288 with 1 Axes>"
      ]
     },
     "metadata": {
      "needs_background": "light"
     },
     "output_type": "display_data"
    }
   ],
   "source": [
    "index = 124\n",
    "plt.imshow(X_train_orig[0])\n",
    "plt.show()"
   ]
  },
  {
   "cell_type": "code",
   "execution_count": 3,
   "metadata": {
    "deletable": false,
    "nbgrader": {
     "cell_type": "code",
     "checksum": "95d28b191f257bdd5b70c7b8952559d5",
     "grade": false,
     "grade_id": "cell-0e56d3fc28b69aec",
     "locked": false,
     "schema_version": 3,
     "solution": true,
     "task": false
    }
   },
   "outputs": [],
   "source": [
    "\n",
    "def happyModel():\n",
    "\n",
    "    model = tf.keras.Sequential([\n",
    "tf.keras.layers.ZeroPadding2D(padding=(3, 3), input_shape=(64, 64, 3)),\n",
    "            # Conv2D with 32 7x7 filters and stride of 1\n",
    "            tf.keras.layers.Conv2D(32, (7, 7), strides=(1, 1)),            \n",
    "            # BatchNormalization for axis 3\n",
    "            tf.keras.layers.BatchNormalization(axis=3),            \n",
    "            # ReLU\n",
    "            tf.keras.layers.ReLU(),            \n",
    "            # Max Pooling 2D with default parameters\n",
    "            tf.keras.layers.MaxPooling2D((2, 2)),\n",
    "            # Flatten layer\n",
    "            tf.keras.layers.Flatten(),            \n",
    "            # Dense layer with 1 unit for output & 'sigmoid' activation\n",
    "            tf.keras.layers.Dense(1, activation='sigmoid')\n",
    "            \n",
    "            # YOUR CODE ENDS HERE\n",
    "        ])\n",
    "    \n",
    "    return model"
   ]
  },
  {
   "cell_type": "code",
   "execution_count": 7,
   "metadata": {
    "deletable": false,
    "editable": false,
    "nbgrader": {
     "cell_type": "code",
     "checksum": "8d3575c950e2e78149be2d05d671c80d",
     "grade": true,
     "grade_id": "cell-e3e1046e5c33d775",
     "locked": true,
     "points": 10,
     "schema_version": 3,
     "solution": false,
     "task": false
    }
   },
   "outputs": [],
   "source": [
    "happy_model = happyModel()\n",
    "\n",
    "    "
   ]
  },
  {
   "cell_type": "code",
   "execution_count": 8,
   "metadata": {},
   "outputs": [],
   "source": [
    "happy_model.compile(optimizer='adam',\n",
    "                   loss='binary_crossentropy',\n",
    "                   metrics=['accuracy'])"
   ]
  },
  {
   "cell_type": "code",
   "execution_count": 9,
   "metadata": {},
   "outputs": [
    {
     "data": {
      "text/html": [
       "<pre style=\"white-space:pre;overflow-x:auto;line-height:normal;font-family:Menlo,'DejaVu Sans Mono',consolas,'Courier New',monospace\"><span style=\"font-weight: bold\">Model: \"sequential_3\"</span>\n",
       "</pre>\n"
      ],
      "text/plain": [
       "\u001b[1mModel: \"sequential_3\"\u001b[0m\n"
      ]
     },
     "metadata": {},
     "output_type": "display_data"
    },
    {
     "data": {
      "text/html": [
       "<pre style=\"white-space:pre;overflow-x:auto;line-height:normal;font-family:Menlo,'DejaVu Sans Mono',consolas,'Courier New',monospace\">┏━━━━━━━━━━━━━━━━━━━━━━━━━━━━━━━━━┳━━━━━━━━━━━━━━━━━━━━━━━━┳━━━━━━━━━━━━━━━┓\n",
       "┃<span style=\"font-weight: bold\"> Layer (type)                    </span>┃<span style=\"font-weight: bold\"> Output Shape           </span>┃<span style=\"font-weight: bold\">       Param # </span>┃\n",
       "┡━━━━━━━━━━━━━━━━━━━━━━━━━━━━━━━━━╇━━━━━━━━━━━━━━━━━━━━━━━━╇━━━━━━━━━━━━━━━┩\n",
       "│ zero_padding2d_3                │ (<span style=\"color: #00d7ff; text-decoration-color: #00d7ff\">None</span>, <span style=\"color: #00af00; text-decoration-color: #00af00\">70</span>, <span style=\"color: #00af00; text-decoration-color: #00af00\">70</span>, <span style=\"color: #00af00; text-decoration-color: #00af00\">3</span>)      │             <span style=\"color: #00af00; text-decoration-color: #00af00\">0</span> │\n",
       "│ (<span style=\"color: #0087ff; text-decoration-color: #0087ff\">ZeroPadding2D</span>)                 │                        │               │\n",
       "├─────────────────────────────────┼────────────────────────┼───────────────┤\n",
       "│ conv2d_3 (<span style=\"color: #0087ff; text-decoration-color: #0087ff\">Conv2D</span>)               │ (<span style=\"color: #00d7ff; text-decoration-color: #00d7ff\">None</span>, <span style=\"color: #00af00; text-decoration-color: #00af00\">64</span>, <span style=\"color: #00af00; text-decoration-color: #00af00\">64</span>, <span style=\"color: #00af00; text-decoration-color: #00af00\">32</span>)     │         <span style=\"color: #00af00; text-decoration-color: #00af00\">4,736</span> │\n",
       "├─────────────────────────────────┼────────────────────────┼───────────────┤\n",
       "│ batch_normalization_3           │ (<span style=\"color: #00d7ff; text-decoration-color: #00d7ff\">None</span>, <span style=\"color: #00af00; text-decoration-color: #00af00\">64</span>, <span style=\"color: #00af00; text-decoration-color: #00af00\">64</span>, <span style=\"color: #00af00; text-decoration-color: #00af00\">32</span>)     │           <span style=\"color: #00af00; text-decoration-color: #00af00\">128</span> │\n",
       "│ (<span style=\"color: #0087ff; text-decoration-color: #0087ff\">BatchNormalization</span>)            │                        │               │\n",
       "├─────────────────────────────────┼────────────────────────┼───────────────┤\n",
       "│ re_lu_3 (<span style=\"color: #0087ff; text-decoration-color: #0087ff\">ReLU</span>)                  │ (<span style=\"color: #00d7ff; text-decoration-color: #00d7ff\">None</span>, <span style=\"color: #00af00; text-decoration-color: #00af00\">64</span>, <span style=\"color: #00af00; text-decoration-color: #00af00\">64</span>, <span style=\"color: #00af00; text-decoration-color: #00af00\">32</span>)     │             <span style=\"color: #00af00; text-decoration-color: #00af00\">0</span> │\n",
       "├─────────────────────────────────┼────────────────────────┼───────────────┤\n",
       "│ max_pooling2d_3 (<span style=\"color: #0087ff; text-decoration-color: #0087ff\">MaxPooling2D</span>)  │ (<span style=\"color: #00d7ff; text-decoration-color: #00d7ff\">None</span>, <span style=\"color: #00af00; text-decoration-color: #00af00\">32</span>, <span style=\"color: #00af00; text-decoration-color: #00af00\">32</span>, <span style=\"color: #00af00; text-decoration-color: #00af00\">32</span>)     │             <span style=\"color: #00af00; text-decoration-color: #00af00\">0</span> │\n",
       "├─────────────────────────────────┼────────────────────────┼───────────────┤\n",
       "│ flatten_3 (<span style=\"color: #0087ff; text-decoration-color: #0087ff\">Flatten</span>)             │ (<span style=\"color: #00d7ff; text-decoration-color: #00d7ff\">None</span>, <span style=\"color: #00af00; text-decoration-color: #00af00\">32768</span>)          │             <span style=\"color: #00af00; text-decoration-color: #00af00\">0</span> │\n",
       "├─────────────────────────────────┼────────────────────────┼───────────────┤\n",
       "│ dense_3 (<span style=\"color: #0087ff; text-decoration-color: #0087ff\">Dense</span>)                 │ (<span style=\"color: #00d7ff; text-decoration-color: #00d7ff\">None</span>, <span style=\"color: #00af00; text-decoration-color: #00af00\">1</span>)              │        <span style=\"color: #00af00; text-decoration-color: #00af00\">32,769</span> │\n",
       "└─────────────────────────────────┴────────────────────────┴───────────────┘\n",
       "</pre>\n"
      ],
      "text/plain": [
       "┏━━━━━━━━━━━━━━━━━━━━━━━━━━━━━━━━━┳━━━━━━━━━━━━━━━━━━━━━━━━┳━━━━━━━━━━━━━━━┓\n",
       "┃\u001b[1m \u001b[0m\u001b[1mLayer (type)                   \u001b[0m\u001b[1m \u001b[0m┃\u001b[1m \u001b[0m\u001b[1mOutput Shape          \u001b[0m\u001b[1m \u001b[0m┃\u001b[1m \u001b[0m\u001b[1m      Param #\u001b[0m\u001b[1m \u001b[0m┃\n",
       "┡━━━━━━━━━━━━━━━━━━━━━━━━━━━━━━━━━╇━━━━━━━━━━━━━━━━━━━━━━━━╇━━━━━━━━━━━━━━━┩\n",
       "│ zero_padding2d_3                │ (\u001b[38;5;45mNone\u001b[0m, \u001b[38;5;34m70\u001b[0m, \u001b[38;5;34m70\u001b[0m, \u001b[38;5;34m3\u001b[0m)      │             \u001b[38;5;34m0\u001b[0m │\n",
       "│ (\u001b[38;5;33mZeroPadding2D\u001b[0m)                 │                        │               │\n",
       "├─────────────────────────────────┼────────────────────────┼───────────────┤\n",
       "│ conv2d_3 (\u001b[38;5;33mConv2D\u001b[0m)               │ (\u001b[38;5;45mNone\u001b[0m, \u001b[38;5;34m64\u001b[0m, \u001b[38;5;34m64\u001b[0m, \u001b[38;5;34m32\u001b[0m)     │         \u001b[38;5;34m4,736\u001b[0m │\n",
       "├─────────────────────────────────┼────────────────────────┼───────────────┤\n",
       "│ batch_normalization_3           │ (\u001b[38;5;45mNone\u001b[0m, \u001b[38;5;34m64\u001b[0m, \u001b[38;5;34m64\u001b[0m, \u001b[38;5;34m32\u001b[0m)     │           \u001b[38;5;34m128\u001b[0m │\n",
       "│ (\u001b[38;5;33mBatchNormalization\u001b[0m)            │                        │               │\n",
       "├─────────────────────────────────┼────────────────────────┼───────────────┤\n",
       "│ re_lu_3 (\u001b[38;5;33mReLU\u001b[0m)                  │ (\u001b[38;5;45mNone\u001b[0m, \u001b[38;5;34m64\u001b[0m, \u001b[38;5;34m64\u001b[0m, \u001b[38;5;34m32\u001b[0m)     │             \u001b[38;5;34m0\u001b[0m │\n",
       "├─────────────────────────────────┼────────────────────────┼───────────────┤\n",
       "│ max_pooling2d_3 (\u001b[38;5;33mMaxPooling2D\u001b[0m)  │ (\u001b[38;5;45mNone\u001b[0m, \u001b[38;5;34m32\u001b[0m, \u001b[38;5;34m32\u001b[0m, \u001b[38;5;34m32\u001b[0m)     │             \u001b[38;5;34m0\u001b[0m │\n",
       "├─────────────────────────────────┼────────────────────────┼───────────────┤\n",
       "│ flatten_3 (\u001b[38;5;33mFlatten\u001b[0m)             │ (\u001b[38;5;45mNone\u001b[0m, \u001b[38;5;34m32768\u001b[0m)          │             \u001b[38;5;34m0\u001b[0m │\n",
       "├─────────────────────────────────┼────────────────────────┼───────────────┤\n",
       "│ dense_3 (\u001b[38;5;33mDense\u001b[0m)                 │ (\u001b[38;5;45mNone\u001b[0m, \u001b[38;5;34m1\u001b[0m)              │        \u001b[38;5;34m32,769\u001b[0m │\n",
       "└─────────────────────────────────┴────────────────────────┴───────────────┘\n"
      ]
     },
     "metadata": {},
     "output_type": "display_data"
    },
    {
     "data": {
      "text/html": [
       "<pre style=\"white-space:pre;overflow-x:auto;line-height:normal;font-family:Menlo,'DejaVu Sans Mono',consolas,'Courier New',monospace\"><span style=\"font-weight: bold\"> Total params: </span><span style=\"color: #00af00; text-decoration-color: #00af00\">37,633</span> (147.00 KB)\n",
       "</pre>\n"
      ],
      "text/plain": [
       "\u001b[1m Total params: \u001b[0m\u001b[38;5;34m37,633\u001b[0m (147.00 KB)\n"
      ]
     },
     "metadata": {},
     "output_type": "display_data"
    },
    {
     "data": {
      "text/html": [
       "<pre style=\"white-space:pre;overflow-x:auto;line-height:normal;font-family:Menlo,'DejaVu Sans Mono',consolas,'Courier New',monospace\"><span style=\"font-weight: bold\"> Trainable params: </span><span style=\"color: #00af00; text-decoration-color: #00af00\">37,569</span> (146.75 KB)\n",
       "</pre>\n"
      ],
      "text/plain": [
       "\u001b[1m Trainable params: \u001b[0m\u001b[38;5;34m37,569\u001b[0m (146.75 KB)\n"
      ]
     },
     "metadata": {},
     "output_type": "display_data"
    },
    {
     "data": {
      "text/html": [
       "<pre style=\"white-space:pre;overflow-x:auto;line-height:normal;font-family:Menlo,'DejaVu Sans Mono',consolas,'Courier New',monospace\"><span style=\"font-weight: bold\"> Non-trainable params: </span><span style=\"color: #00af00; text-decoration-color: #00af00\">64</span> (256.00 B)\n",
       "</pre>\n"
      ],
      "text/plain": [
       "\u001b[1m Non-trainable params: \u001b[0m\u001b[38;5;34m64\u001b[0m (256.00 B)\n"
      ]
     },
     "metadata": {},
     "output_type": "display_data"
    }
   ],
   "source": [
    "happy_model.summary()"
   ]
  },
  {
   "cell_type": "code",
   "execution_count": 12,
   "metadata": {},
   "outputs": [
    {
     "name": "stdout",
     "output_type": "stream",
     "text": [
      "Epoch 1/10\n",
      "\u001b[1m38/38\u001b[0m \u001b[32m━━━━━━━━━━━━━━━━━━━━\u001b[0m\u001b[37m\u001b[0m \u001b[1m1s\u001b[0m 25ms/step - accuracy: 0.9802 - loss: 0.0533\n",
      "Epoch 2/10\n",
      "\u001b[1m38/38\u001b[0m \u001b[32m━━━━━━━━━━━━━━━━━━━━\u001b[0m\u001b[37m\u001b[0m \u001b[1m1s\u001b[0m 26ms/step - accuracy: 0.9744 - loss: 0.0618\n",
      "Epoch 3/10\n",
      "\u001b[1m38/38\u001b[0m \u001b[32m━━━━━━━━━━━━━━━━━━━━\u001b[0m\u001b[37m\u001b[0m \u001b[1m1s\u001b[0m 26ms/step - accuracy: 0.9469 - loss: 0.1076\n",
      "Epoch 4/10\n",
      "\u001b[1m38/38\u001b[0m \u001b[32m━━━━━━━━━━━━━━━━━━━━\u001b[0m\u001b[37m\u001b[0m \u001b[1m1s\u001b[0m 25ms/step - accuracy: 0.9547 - loss: 0.1492\n",
      "Epoch 5/10\n",
      "\u001b[1m38/38\u001b[0m \u001b[32m━━━━━━━━━━━━━━━━━━━━\u001b[0m\u001b[37m\u001b[0m \u001b[1m1s\u001b[0m 25ms/step - accuracy: 0.9761 - loss: 0.1087\n",
      "Epoch 6/10\n",
      "\u001b[1m38/38\u001b[0m \u001b[32m━━━━━━━━━━━━━━━━━━━━\u001b[0m\u001b[37m\u001b[0m \u001b[1m1s\u001b[0m 26ms/step - accuracy: 0.9617 - loss: 0.0949\n",
      "Epoch 7/10\n",
      "\u001b[1m38/38\u001b[0m \u001b[32m━━━━━━━━━━━━━━━━━━━━\u001b[0m\u001b[37m\u001b[0m \u001b[1m1s\u001b[0m 26ms/step - accuracy: 0.9872 - loss: 0.0591\n",
      "Epoch 8/10\n",
      "\u001b[1m38/38\u001b[0m \u001b[32m━━━━━━━━━━━━━━━━━━━━\u001b[0m\u001b[37m\u001b[0m \u001b[1m1s\u001b[0m 25ms/step - accuracy: 0.9762 - loss: 0.0714\n",
      "Epoch 9/10\n",
      "\u001b[1m38/38\u001b[0m \u001b[32m━━━━━━━━━━━━━━━━━━━━\u001b[0m\u001b[37m\u001b[0m \u001b[1m1s\u001b[0m 25ms/step - accuracy: 0.9707 - loss: 0.0997\n",
      "Epoch 10/10\n",
      "\u001b[1m38/38\u001b[0m \u001b[32m━━━━━━━━━━━━━━━━━━━━\u001b[0m\u001b[37m\u001b[0m \u001b[1m1s\u001b[0m 26ms/step - accuracy: 0.9645 - loss: 0.0796\n"
     ]
    },
    {
     "data": {
      "text/plain": [
       "<Sequential name=sequential_3, built=True>"
      ]
     },
     "execution_count": 12,
     "metadata": {},
     "output_type": "execute_result"
    }
   ],
   "source": [
    "happy_model.fit(X_train, Y_train, epochs=10, batch_size=16)\n"
   ]
  },
  {
   "cell_type": "code",
   "execution_count": 11,
   "metadata": {},
   "outputs": [
    {
     "name": "stdout",
     "output_type": "stream",
     "text": [
      "\u001b[1m5/5\u001b[0m \u001b[32m━━━━━━━━━━━━━━━━━━━━\u001b[0m\u001b[37m\u001b[0m \u001b[1m0s\u001b[0m 12ms/step - accuracy: 0.8801 - loss: 0.2996\n"
     ]
    },
    {
     "data": {
      "text/plain": [
       "[0.27756279706954956, 0.8733333349227905]"
      ]
     },
     "execution_count": 11,
     "metadata": {},
     "output_type": "execute_result"
    }
   ],
   "source": [
    "happy_model.evaluate(X_test, Y_test)"
   ]
  },
  {
   "cell_type": "code",
   "execution_count": 63,
   "metadata": {},
   "outputs": [
    {
     "name": "stdout",
     "output_type": "stream",
     "text": [
      "\u001b[1m5/5\u001b[0m \u001b[32m━━━━━━━━━━━━━━━━━━━━\u001b[0m\u001b[37m\u001b[0m \u001b[1m0s\u001b[0m 13ms/step\n",
      "[0.25857377]\n"
     ]
    },
    {
     "data": {
      "image/png": "[encoded data removed]",
      "text/plain": [
       "<Figure size 640x480 with 1 Axes>"
      ]
     },
     "metadata": {},
     "output_type": "display_data"
    }
   ],
   "source": [
    "\n",
    "\n",
    "index = 109\n",
    "y_pred=happy_model.predict(X_test)\n",
    "print(y_pred[index])\n",
    "plt.imshow(X_train_orig[index]) #display sample training image\n",
    "plt.show()\n",
    "#testing on some examples makes me think threshold for smiling could be as low as 0.2"
   ]
  }
 ],
 "metadata": {
  "coursera": {
   "course_slug": "convolutional-neural-networks",
   "graded_item_id": "bwbJV",
   "launcher_item_id": "0TkXB"
  },
  "kernelspec": {
   "display_name": "Python 3",
   "language": "python",
   "name": "python3"
  },
  "language_info": {
   "codemirror_mode": {
    "name": "ipython",
    "version": 3
   },
   "file_extension": ".py",
   "mimetype": "text/x-python",
   "name": "python",
   "nbconvert_exporter": "python",
   "pygments_lexer": "ipython3",
   "version": "3.11.7"
  }
 },
 "nbformat": 4,
 "nbformat_minor": 2
}
